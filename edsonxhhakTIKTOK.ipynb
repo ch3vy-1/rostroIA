{
  "nbformat": 4,
  "nbformat_minor": 0,
  "metadata": {
    "colab": {
      "provenance": [],
      "gpuType": "T4",
      "include_colab_link": true
    },
    "kernelspec": {
      "name": "python3",
      "display_name": "Python 3"
    },
    "language_info": {
      "name": "python"
    },
    "accelerator": "GPU"
  },
  "cells": [
    {
      "cell_type": "markdown",
      "metadata": {
        "id": "view-in-github",
        "colab_type": "text"
      },
      "source": [
        "<a href=\"https://colab.research.google.com/github/ch3vy-1/rostroIA/blob/main/edsonxhhakTIKTOK.ipynb\" target=\"_parent\"><img src=\"https://colab.research.google.com/assets/colab-badge.svg\" alt=\"Open In Colab\"/></a>"
      ]
    },
    {
      "cell_type": "markdown",
      "source": [
        "# ✅ Paso 1\n",
        "Recuerda verificar en la pestaña de aqui arriba en \"Entorno de ejecución\", en \"cambiar tipo de entorno de ejecución\" y validar que se encuentre en GPU y despues presionas el primer boton en forma de Play\n",
        "\n",
        "*Si al finalizar este paso te aparece un boton que dice \"RESTART RUNTIME\". Aunque no lo presiones, aun asi va a funcionar tu DeepFake*"
      ],
      "metadata": {
        "id": "K2JUC5sLl2oA"
      }
    },
    {
      "cell_type": "code",
      "execution_count": null,
      "metadata": {
        "id": "tea-ftRlWHH5"
      },
      "outputs": [],
      "source": [
        "!git clone https://github.com/s0md3v/roop\n",
        "%cd /content/roop\n",
        "\n",
        "!git checkout 30713c3c0e51ef93069977fc275f0cd0361e61c7\n",
        "!pip install onnxruntime-gpu && pip install -r /content/roop/requirements.txt\n",
        "%cd /content"
      ]
    },
    {
      "cell_type": "markdown",
      "source": [
        "# ✅ Paso 2\n",
        "Solo dale click al boton en forma de Play"
      ],
      "metadata": {
        "id": "FW7D3RX9nAsK"
      }
    },
    {
      "cell_type": "code",
      "source": [
        "%cd /content/roop\n",
        "!wget https://huggingface.co/MonsterMMORPG/SECourses/resolve/main/inswapper_128.onnx\n",
        "%cd /content"
      ],
      "metadata": {
        "id": "h3FWVMuiWUV7"
      },
      "execution_count": null,
      "outputs": []
    },
    {
      "cell_type": "markdown",
      "source": [
        "# ✅ Paso 3\n",
        "Aqui debes de cargar tu archivo de imagen y video que vas a utilizar del lado izquierdo de esta pantalla. Solo dale clic al icono en forma de carpeta y arrastra tus archivos"
      ],
      "metadata": {
        "id": "7Jg0n4uQnP_L"
      }
    },
    {
      "cell_type": "code",
      "source": [
        "import os\n",
        "%cd /content/roop\n",
        "image_path = \"aqui_va_el_link_de_tu_foto\"\n",
        "video_path = \"aqui_va_el_link_de_tu_video\"\n",
        "output_path = \"/content/deepfake.mp4\"\n",
        "!python /content/roop/run.py -f \"$image_path\" -t \"$video_path\" -o \"$output_path\" --keep-fps --gpu-vendor nvidia\n",
        "%cd /content"
      ],
      "metadata": {
        "id": "yYY03jVcWUyG"
      },
      "execution_count": null,
      "outputs": []
    }
  ]
}